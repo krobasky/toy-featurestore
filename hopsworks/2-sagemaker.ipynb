{
 "cells": [
  {
   "cell_type": "code",
   "execution_count": 1,
   "id": "98e24c89-d74c-44a7-adca-096b92397714",
   "metadata": {},
   "outputs": [
    {
     "name": "stderr",
     "output_type": "stream",
     "text": [
      "/home/jdowling/anaconda3/envs/book/lib/python3.10/site-packages/tqdm/auto.py:21: TqdmWarning: IProgress not found. Please update jupyter and ipywidgets. See https://ipywidgets.readthedocs.io/en/stable/user_install.html\n",
      "  from .autonotebook import tqdm as notebook_tqdm\n"
     ]
    },
    {
     "name": "stdout",
     "output_type": "stream",
     "text": [
      "Connected. Call `.close()` to terminate connection gracefully.\n",
      "\n",
      "Logged in to project, explore it here https://c.app.hopsworks.ai:443/p/644244\n",
      "Connected. Call `.close()` to terminate connection gracefully.\n"
     ]
    }
   ],
   "source": [
    "import hopsworks\n",
    "from hsfs.feature import Feature\n",
    "import snowflake.connector\n",
    "\n",
    "proj = hopsworks.login(project=\"kimberly\")\n",
    "fs = proj.get_feature_store()"
   ]
  },
  {
   "cell_type": "code",
   "execution_count": 2,
   "id": "955a8131-79d0-4171-bc00-720ee54b6b37",
   "metadata": {},
   "outputs": [
    {
     "name": "stderr",
     "output_type": "stream",
     "text": [
      "/arrow/cpp/src/arrow/status.cc:137: DoAction result was not fully consumed: Cancelled: Flight cancelled call, with message: CANCELLED. Detail: Cancelled\n"
     ]
    },
    {
     "name": "stdout",
     "output_type": "stream",
     "text": [
      "Finished: Reading data from Hopsworks, using ArrowFlight (3.10s) \n"
     ]
    },
    {
     "data": {
      "text/html": [
       "<div>\n",
       "<style scoped>\n",
       "    .dataframe tbody tr th:only-of-type {\n",
       "        vertical-align: middle;\n",
       "    }\n",
       "\n",
       "    .dataframe tbody tr th {\n",
       "        vertical-align: top;\n",
       "    }\n",
       "\n",
       "    .dataframe thead th {\n",
       "        text-align: right;\n",
       "    }\n",
       "</style>\n",
       "<table border=\"1\" class=\"dataframe\">\n",
       "  <thead>\n",
       "    <tr style=\"text-align: right;\">\n",
       "      <th></th>\n",
       "      <th>repo_name</th>\n",
       "      <th>sum_stars</th>\n",
       "    </tr>\n",
       "  </thead>\n",
       "  <tbody>\n",
       "    <tr>\n",
       "      <th>0</th>\n",
       "      <td>significant-gravitas/autogpt</td>\n",
       "      <td>156550</td>\n",
       "    </tr>\n",
       "    <tr>\n",
       "      <th>1</th>\n",
       "      <td>automatic1111/stable-diffusion-webui</td>\n",
       "      <td>107157</td>\n",
       "    </tr>\n",
       "    <tr>\n",
       "      <th>2</th>\n",
       "      <td>f/awesome-chatgpt-prompts</td>\n",
       "      <td>100513</td>\n",
       "    </tr>\n",
       "    <tr>\n",
       "      <th>3</th>\n",
       "      <td>base-org/chains</td>\n",
       "      <td>87616</td>\n",
       "    </tr>\n",
       "    <tr>\n",
       "      <th>4</th>\n",
       "      <td>practical-tutorials/project-based-learning</td>\n",
       "      <td>87320</td>\n",
       "    </tr>\n",
       "    <tr>\n",
       "      <th>...</th>\n",
       "      <td>...</td>\n",
       "      <td>...</td>\n",
       "    </tr>\n",
       "    <tr>\n",
       "      <th>95</th>\n",
       "      <td>metatimeofficial/chainlist</td>\n",
       "      <td>27255</td>\n",
       "    </tr>\n",
       "    <tr>\n",
       "      <th>96</th>\n",
       "      <td>mlabonne/llm-course</td>\n",
       "      <td>27133</td>\n",
       "    </tr>\n",
       "    <tr>\n",
       "      <th>97</th>\n",
       "      <td>lllyasviel/controlnet</td>\n",
       "      <td>26914</td>\n",
       "    </tr>\n",
       "    <tr>\n",
       "      <th>98</th>\n",
       "      <td>microsoft/ai-for-beginners</td>\n",
       "      <td>26878</td>\n",
       "    </tr>\n",
       "    <tr>\n",
       "      <th>99</th>\n",
       "      <td>chatchat-space/langchain-chatchat</td>\n",
       "      <td>26443</td>\n",
       "    </tr>\n",
       "  </tbody>\n",
       "</table>\n",
       "<p>100 rows × 2 columns</p>\n",
       "</div>"
      ],
      "text/plain": [
       "                                     repo_name sum_stars\n",
       "0                 significant-gravitas/autogpt    156550\n",
       "1         automatic1111/stable-diffusion-webui    107157\n",
       "2                    f/awesome-chatgpt-prompts    100513\n",
       "3                              base-org/chains     87616\n",
       "4   practical-tutorials/project-based-learning     87320\n",
       "..                                         ...       ...\n",
       "95                  metatimeofficial/chainlist     27255\n",
       "96                         mlabonne/llm-course     27133\n",
       "97                       lllyasviel/controlnet     26914\n",
       "98                  microsoft/ai-for-beginners     26878\n",
       "99           chatchat-space/langchain-chatchat     26443\n",
       "\n",
       "[100 rows x 2 columns]"
      ]
     },
     "execution_count": 2,
     "metadata": {},
     "output_type": "execute_result"
    }
   ],
   "source": [
    "github_most_starts_fg = fs.get_external_feature_group(\n",
    "    name=\"github_most_stars\",\n",
    "    version=1\n",
    ")\n",
    "\n",
    "github_most_starts_fg.read()"
   ]
  },
  {
   "cell_type": "code",
   "execution_count": 3,
   "id": "cc23a391-b1e1-440e-b562-49dc09e65775",
   "metadata": {},
   "outputs": [],
   "source": [
    "bike_stations = fs.get_feature_group(\n",
    "    name=\"chicago_bike_stations\",\n",
    "    version=1\n",
    ")\n",
    "\n",
    "bike_station_status = fs.get_feature_group(\n",
    "    name=\"chicago_bike_station_status\",\n",
    "    version=1\n",
    ")"
   ]
  },
  {
   "cell_type": "code",
   "execution_count": 17,
   "id": "b86d918e-5e72-463e-9366-9388cffbe1d8",
   "metadata": {},
   "outputs": [
    {
     "name": "stdout",
     "output_type": "stream",
     "text": [
      "Finished: Reading data from Hopsworks, using ArrowFlight (5.34s) \n"
     ]
    },
    {
     "data": {
      "text/html": [
       "<div>\n",
       "<style scoped>\n",
       "    .dataframe tbody tr th:only-of-type {\n",
       "        vertical-align: middle;\n",
       "    }\n",
       "\n",
       "    .dataframe tbody tr th {\n",
       "        vertical-align: top;\n",
       "    }\n",
       "\n",
       "    .dataframe thead th {\n",
       "        text-align: right;\n",
       "    }\n",
       "</style>\n",
       "<table border=\"1\" class=\"dataframe\">\n",
       "  <thead>\n",
       "    <tr style=\"text-align: right;\">\n",
       "      <th></th>\n",
       "      <th>station_status</th>\n",
       "      <th>num_bikes_available</th>\n",
       "      <th>station_type</th>\n",
       "      <th>capacity</th>\n",
       "      <th>has_kiosk</th>\n",
       "    </tr>\n",
       "  </thead>\n",
       "  <tbody>\n",
       "    <tr>\n",
       "      <th>0</th>\n",
       "      <td>\"active\"</td>\n",
       "      <td>3</td>\n",
       "      <td>\"lightweight\"</td>\n",
       "      <td>9</td>\n",
       "      <td>false</td>\n",
       "    </tr>\n",
       "    <tr>\n",
       "      <th>1</th>\n",
       "      <td>\"active\"</td>\n",
       "      <td>1</td>\n",
       "      <td>\"lightweight\"</td>\n",
       "      <td>9</td>\n",
       "      <td>false</td>\n",
       "    </tr>\n",
       "    <tr>\n",
       "      <th>2</th>\n",
       "      <td>\"active\"</td>\n",
       "      <td>2</td>\n",
       "      <td>\"lightweight\"</td>\n",
       "      <td>9</td>\n",
       "      <td>false</td>\n",
       "    </tr>\n",
       "    <tr>\n",
       "      <th>3</th>\n",
       "      <td>\"active\"</td>\n",
       "      <td>0</td>\n",
       "      <td>\"lightweight\"</td>\n",
       "      <td>9</td>\n",
       "      <td>false</td>\n",
       "    </tr>\n",
       "    <tr>\n",
       "      <th>4</th>\n",
       "      <td>\"active\"</td>\n",
       "      <td>4</td>\n",
       "      <td>\"lightweight\"</td>\n",
       "      <td>9</td>\n",
       "      <td>false</td>\n",
       "    </tr>\n",
       "    <tr>\n",
       "      <th>5</th>\n",
       "      <td>\"active\"</td>\n",
       "      <td>0</td>\n",
       "      <td>\"lightweight\"</td>\n",
       "      <td>9</td>\n",
       "      <td>false</td>\n",
       "    </tr>\n",
       "    <tr>\n",
       "      <th>6</th>\n",
       "      <td>\"active\"</td>\n",
       "      <td>0</td>\n",
       "      <td>\"lightweight\"</td>\n",
       "      <td>9</td>\n",
       "      <td>false</td>\n",
       "    </tr>\n",
       "    <tr>\n",
       "      <th>7</th>\n",
       "      <td>\"active\"</td>\n",
       "      <td>0</td>\n",
       "      <td>\"lightweight\"</td>\n",
       "      <td>9</td>\n",
       "      <td>false</td>\n",
       "    </tr>\n",
       "    <tr>\n",
       "      <th>8</th>\n",
       "      <td>\"active\"</td>\n",
       "      <td>0</td>\n",
       "      <td>\"lightweight\"</td>\n",
       "      <td>12</td>\n",
       "      <td>false</td>\n",
       "    </tr>\n",
       "    <tr>\n",
       "      <th>9</th>\n",
       "      <td>\"active\"</td>\n",
       "      <td>1</td>\n",
       "      <td>\"lightweight\"</td>\n",
       "      <td>9</td>\n",
       "      <td>false</td>\n",
       "    </tr>\n",
       "  </tbody>\n",
       "</table>\n",
       "</div>"
      ],
      "text/plain": [
       "  station_status num_bikes_available   station_type capacity has_kiosk\n",
       "0       \"active\"                   3  \"lightweight\"        9     false\n",
       "1       \"active\"                   1  \"lightweight\"        9     false\n",
       "2       \"active\"                   2  \"lightweight\"        9     false\n",
       "3       \"active\"                   0  \"lightweight\"        9     false\n",
       "4       \"active\"                   4  \"lightweight\"        9     false\n",
       "5       \"active\"                   0  \"lightweight\"        9     false\n",
       "6       \"active\"                   0  \"lightweight\"        9     false\n",
       "7       \"active\"                   0  \"lightweight\"        9     false\n",
       "8       \"active\"                   0  \"lightweight\"       12     false\n",
       "9       \"active\"                   1  \"lightweight\"        9     false"
      ]
     },
     "execution_count": 17,
     "metadata": {},
     "output_type": "execute_result"
    }
   ],
   "source": [
    "# select the features for your model\n",
    "selected_features = bike_station_status.select(['station_status','num_bikes_available']).join(bike_stations.select(['station_type', 'capacity', 'has_kiosk']), left_on=\"id\", right_on=\"station_id\")\n",
    "selected_features.show(10)"
   ]
  },
  {
   "cell_type": "code",
   "execution_count": 18,
   "id": "f2e1b25d-93e4-4ded-8f2e-ba12774fdcf9",
   "metadata": {},
   "outputs": [
    {
     "name": "stdout",
     "output_type": "stream",
     "text": [
      "Feature view created successfully, explore it at \n",
      "https://c.app.hopsworks.ai:443/p/644244/fs/640067/fv/bikes/version/1\n"
     ]
    }
   ],
   "source": [
    "fv = fs.get_or_create_feature_view(name=\"bikes\", \n",
    "                                   version=1,\n",
    "                                   description=\"Predict bike availability\",\n",
    "                                   query=selected_features,\n",
    "                                   labels=[\"num_bikes_available\"]\n",
    "                                  )"
   ]
  },
  {
   "cell_type": "code",
   "execution_count": 21,
   "id": "a4bcc8c3-3f7f-40c8-a39c-b0e5e490689e",
   "metadata": {},
   "outputs": [
    {
     "name": "stdout",
     "output_type": "stream",
     "text": [
      "Finished: Reading data from Hopsworks, using ArrowFlight (3.75s) \n"
     ]
    },
    {
     "name": "stderr",
     "output_type": "stream",
     "text": [
      "DeprecationWarning: is_sparse is deprecated and will be removed in a future version. Check `isinstance(dtype, pd.SparseDtype)` instead.\n",
      "DeprecationWarning: is_sparse is deprecated and will be removed in a future version. Check `isinstance(dtype, pd.SparseDtype)` instead.\n",
      "VersionWarning: Incremented version to `2`.\n"
     ]
    }
   ],
   "source": [
    "X_train, X_test, y_train, y_test = fv.train_test_split(test_size=0.1)"
   ]
  },
  {
   "cell_type": "code",
   "execution_count": 22,
   "id": "a6ff4e00-193f-4050-9c53-8e73d4a90f8e",
   "metadata": {},
   "outputs": [
    {
     "data": {
      "text/html": [
       "<div>\n",
       "<style scoped>\n",
       "    .dataframe tbody tr th:only-of-type {\n",
       "        vertical-align: middle;\n",
       "    }\n",
       "\n",
       "    .dataframe tbody tr th {\n",
       "        vertical-align: top;\n",
       "    }\n",
       "\n",
       "    .dataframe thead th {\n",
       "        text-align: right;\n",
       "    }\n",
       "</style>\n",
       "<table border=\"1\" class=\"dataframe\">\n",
       "  <thead>\n",
       "    <tr style=\"text-align: right;\">\n",
       "      <th></th>\n",
       "      <th>station_status</th>\n",
       "      <th>station_type</th>\n",
       "      <th>capacity</th>\n",
       "      <th>has_kiosk</th>\n",
       "    </tr>\n",
       "  </thead>\n",
       "  <tbody>\n",
       "    <tr>\n",
       "      <th>0</th>\n",
       "      <td>\"active\"</td>\n",
       "      <td>\"lightweight\"</td>\n",
       "      <td>9</td>\n",
       "      <td>false</td>\n",
       "    </tr>\n",
       "    <tr>\n",
       "      <th>1</th>\n",
       "      <td>\"active\"</td>\n",
       "      <td>\"lightweight\"</td>\n",
       "      <td>9</td>\n",
       "      <td>false</td>\n",
       "    </tr>\n",
       "    <tr>\n",
       "      <th>2</th>\n",
       "      <td>\"active\"</td>\n",
       "      <td>\"lightweight\"</td>\n",
       "      <td>9</td>\n",
       "      <td>false</td>\n",
       "    </tr>\n",
       "    <tr>\n",
       "      <th>3</th>\n",
       "      <td>\"active\"</td>\n",
       "      <td>\"lightweight\"</td>\n",
       "      <td>9</td>\n",
       "      <td>false</td>\n",
       "    </tr>\n",
       "    <tr>\n",
       "      <th>6</th>\n",
       "      <td>\"active\"</td>\n",
       "      <td>\"lightweight\"</td>\n",
       "      <td>9</td>\n",
       "      <td>false</td>\n",
       "    </tr>\n",
       "    <tr>\n",
       "      <th>...</th>\n",
       "      <td>...</td>\n",
       "      <td>...</td>\n",
       "      <td>...</td>\n",
       "      <td>...</td>\n",
       "    </tr>\n",
       "    <tr>\n",
       "      <th>7193</th>\n",
       "      <td>\"active\"</td>\n",
       "      <td>\"lightweight\"</td>\n",
       "      <td>8</td>\n",
       "      <td>false</td>\n",
       "    </tr>\n",
       "    <tr>\n",
       "      <th>7194</th>\n",
       "      <td>\"active\"</td>\n",
       "      <td>\"lightweight\"</td>\n",
       "      <td>9</td>\n",
       "      <td>false</td>\n",
       "    </tr>\n",
       "    <tr>\n",
       "      <th>7195</th>\n",
       "      <td>\"active\"</td>\n",
       "      <td>\"lightweight\"</td>\n",
       "      <td>6</td>\n",
       "      <td>false</td>\n",
       "    </tr>\n",
       "    <tr>\n",
       "      <th>7196</th>\n",
       "      <td>\"active\"</td>\n",
       "      <td>\"lightweight\"</td>\n",
       "      <td>9</td>\n",
       "      <td>false</td>\n",
       "    </tr>\n",
       "    <tr>\n",
       "      <th>7197</th>\n",
       "      <td>\"planned\"</td>\n",
       "      <td>\"lightweight\"</td>\n",
       "      <td>6</td>\n",
       "      <td>false</td>\n",
       "    </tr>\n",
       "  </tbody>\n",
       "</table>\n",
       "<p>6478 rows × 4 columns</p>\n",
       "</div>"
      ],
      "text/plain": [
       "     station_status   station_type capacity has_kiosk\n",
       "0          \"active\"  \"lightweight\"        9     false\n",
       "1          \"active\"  \"lightweight\"        9     false\n",
       "2          \"active\"  \"lightweight\"        9     false\n",
       "3          \"active\"  \"lightweight\"        9     false\n",
       "6          \"active\"  \"lightweight\"        9     false\n",
       "...             ...            ...      ...       ...\n",
       "7193       \"active\"  \"lightweight\"        8     false\n",
       "7194       \"active\"  \"lightweight\"        9     false\n",
       "7195       \"active\"  \"lightweight\"        6     false\n",
       "7196       \"active\"  \"lightweight\"        9     false\n",
       "7197      \"planned\"  \"lightweight\"        6     false\n",
       "\n",
       "[6478 rows x 4 columns]"
      ]
     },
     "execution_count": 22,
     "metadata": {},
     "output_type": "execute_result"
    }
   ],
   "source": [
    "X_train"
   ]
  },
  {
   "cell_type": "code",
   "execution_count": null,
   "id": "d4dc17c7-eb90-4bf5-84d7-cf36f4af2e15",
   "metadata": {},
   "outputs": [],
   "source": [
    "# Train your model ...."
   ]
  }
 ],
 "metadata": {
  "kernelspec": {
   "display_name": "Python 3 (ipykernel)",
   "language": "python",
   "name": "python3"
  },
  "language_info": {
   "codemirror_mode": {
    "name": "ipython",
    "version": 3
   },
   "file_extension": ".py",
   "mimetype": "text/x-python",
   "name": "python",
   "nbconvert_exporter": "python",
   "pygments_lexer": "ipython3",
   "version": "3.10.0"
  }
 },
 "nbformat": 4,
 "nbformat_minor": 5
}
